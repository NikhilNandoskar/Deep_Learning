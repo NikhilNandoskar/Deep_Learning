{
  "nbformat": 4,
  "nbformat_minor": 0,
  "metadata": {
    "colab": {
      "name": "Tensorflow for Poets.ipynb",
      "version": "0.3.2",
      "provenance": [],
      "collapsed_sections": [],
      "include_colab_link": true
    },
    "kernelspec": {
      "name": "python3",
      "display_name": "Python 3"
    },
    "accelerator": "GPU"
  },
  "cells": [
    {
      "cell_type": "markdown",
      "metadata": {
        "id": "view-in-github",
        "colab_type": "text"
      },
      "source": [
        "[View in Colaboratory](https://colab.research.google.com/github/NikhilNandoskar/Deep_Learning/blob/master/Tensorflow_for_Poets.ipynb)"
      ]
    },
    {
      "metadata": {
        "id": "nK86IEO-F87K",
        "colab_type": "code",
        "colab": {
          "base_uri": "https://localhost:8080/",
          "height": 658
        },
        "outputId": "cc7b6cfe-a64e-46fe-a8b3-c61c4dd238e1"
      },
      "cell_type": "code",
      "source": [
        "#Importing Libraries and Packages\n",
        "import numpy as np\n",
        "import matplotlib.pyplot as plt\n",
        "import keras\n",
        "from keras.datasets import mnist\n",
        "from keras.utils import np_utils\n",
        "from keras.models import Sequential\n",
        "from keras.layers import Conv2D, MaxPooling2D, Flatten\n",
        "from keras.layers import Dense, Dropout\n",
        "\n",
        "#Importing data:\n",
        "(X_train, y_train), (X_test, y_test) = mnist.load_data()\n",
        "#print(\"# of training examples in X_train\", X_train.shape)\n",
        "#print(\"# of test examples in X_train\", X_test.shape)\n",
        "\n",
        "#Reshaping input data:\n",
        "X_train = X_train.reshape(X_train.shape[0], 28, 28, 1)\n",
        "X_test = X_test.reshape(X_test.shape[0], 28, 28, 1)\n",
        "#print(type(X_train))\n",
        "X_train = X_train.astype('float32')\n",
        "X_test = X_test.astype('float32')\n",
        "#print('x_train shape:', X_train.shape)\n",
        "#print(X_train.shape[0], 'train samples')\n",
        "#print(X_test.shape[0], 'test samples')\n",
        "#Normalising the numbers in the range 0-1: Each Pixel value is 8 bits therefore 255\n",
        "X_train /= 255\n",
        "X_test /= 255\n",
        "#Converting output to be one hot encoder:\n",
        "y_train = np_utils.to_categorical(y_train, num_classes = 10)\n",
        "y_test = np_utils.to_categorical(y_test, num_classes = 10)\n",
        "\n",
        "#Building the CNN model\n",
        "classifier = Sequential()\n",
        "\n",
        "#Initializing CNN:\n",
        "classifier.add(Conv2D(32,(3,3), input_shape = (28,28,1), activation = 'relu'))\n",
        "classifier.add(MaxPooling2D(pool_size=(2, 2)))\n",
        "classifier.add(Dropout(0.2))\n",
        "\n",
        "#Hidden Layer:\n",
        "classifier.add(Conv2D(32,(3,3), activation = 'relu'))\n",
        "classifier.add(MaxPooling2D(pool_size=(2, 2)))\n",
        "classifier.add(Dropout(0.2))\n",
        "\n",
        "#Flattening\n",
        "classifier.add(Flatten())\n",
        "\n",
        "#Full Connection:\n",
        "classifier.add(Dense(units = 128, activation = 'relu'))\n",
        "classifier.add(Dense(units = 10, activation = 'softmax'))\n",
        "\n",
        "#Complining the CCNN:\n",
        "classifier.compile(optimizer='adam', loss='categorical_crossentropy', metrics=['accuracy'])\n",
        "\n",
        "#Trainig the model:\n",
        "classifier.fit(X_train, y_train, batch_size=128, epochs =10, verbose=1, validation_data=(X_test, y_test))\n",
        "\n",
        "#Evaluate the model\n",
        "score = classifier.evaluate(X_test, y_test, verbose = 0)\n",
        "print('test loss', score[0])\n",
        "print('test accuracy', score[1])\n",
        "\n",
        "# The predict_classes function outputs the highest probability class\n",
        "# according to the trained classifier for each input example.\n",
        "predicted_classes = classifier.predict_classes(X_test)\n",
        "\n",
        "# Check which items we got right / wrong\n",
        "correct_indices = np.nonzero(predicted_classes == y_test)[0]\n",
        "incorrect_indices = np.nonzero(predicted_classes != y_test)[0]\n",
        "\n",
        "#Plotting\n",
        "plt.figure()\n",
        "for i,correct in enumerate(correct_indices[:9]):\n",
        "    plt.subplot(3,3,i+1)\n",
        "    plt.imshow(X_test[correct].reshape(28,28), cmap='gray', interpolation='none')\n",
        "    plt.title(\"Predicted {}, Class {}\".format(predicted_classes[correct], y_test[correct]))\n",
        "    \n",
        "plt.figure()\n",
        "for i, incorrect in enumerate(incorrect_indices[:9]):\n",
        "    plt.subplot(3,3,i+1)\n",
        "    plt.imshow(X_test[incorrect].reshape(28,28), cmap='gray', interpolation='none')\n",
        "    plt.title(\"Predicted {}, Class {}\".format(predicted_classes[incorrect], y_test[incorrect]))\n"
      ],
      "execution_count": 1,
      "outputs": [
        {
          "output_type": "stream",
          "text": [
            "Using TensorFlow backend.\n"
          ],
          "name": "stderr"
        },
        {
          "output_type": "stream",
          "text": [
            "Downloading data from https://s3.amazonaws.com/img-datasets/mnist.npz\n",
            "11493376/11490434 [==============================] - 2s 0us/step\n",
            "Train on 60000 samples, validate on 10000 samples\n",
            "Epoch 1/10\n",
            "60000/60000 [==============================] - 13s 214us/step - loss: 0.2904 - acc: 0.9106 - val_loss: 0.0781 - val_acc: 0.9763\n",
            "Epoch 2/10\n",
            "45824/60000 [=====================>........] - ETA: 2s - loss: 0.0882 - acc: 0.9727"
          ],
          "name": "stdout"
        },
        {
          "output_type": "stream",
          "text": [
            "60000/60000 [==============================] - 10s 162us/step - loss: 0.0839 - acc: 0.9739 - val_loss: 0.0429 - val_acc: 0.9860\n",
            "Epoch 3/10\n",
            "60000/60000 [==============================] - 8s 133us/step - loss: 0.0606 - acc: 0.9808 - val_loss: 0.0438 - val_acc: 0.9855\n",
            "Epoch 4/10\n",
            "60000/60000 [==============================] - 7s 120us/step - loss: 0.0486 - acc: 0.9844 - val_loss: 0.0368 - val_acc: 0.9885\n",
            "Epoch 5/10\n",
            "23808/60000 [==========>...................] - ETA: 4s - loss: 0.0379 - acc: 0.9875"
          ],
          "name": "stdout"
        },
        {
          "output_type": "stream",
          "text": [
            "60000/60000 [==============================] - 7s 119us/step - loss: 0.0417 - acc: 0.9872 - val_loss: 0.0299 - val_acc: 0.9902\n",
            "Epoch 6/10\n",
            "60000/60000 [==============================] - 7s 118us/step - loss: 0.0366 - acc: 0.9885 - val_loss: 0.0317 - val_acc: 0.9889\n",
            "Epoch 7/10\n",
            "60000/60000 [==============================] - 7s 123us/step - loss: 0.0324 - acc: 0.9892 - val_loss: 0.0275 - val_acc: 0.9905\n",
            "Epoch 8/10\n",
            "22016/60000 [==========>...................] - ETA: 4s - loss: 0.0257 - acc: 0.9915"
          ],
          "name": "stdout"
        },
        {
          "output_type": "stream",
          "text": [
            "60000/60000 [==============================] - 8s 127us/step - loss: 0.0271 - acc: 0.9911 - val_loss: 0.0288 - val_acc: 0.9905\n",
            "Epoch 9/10\n",
            "60000/60000 [==============================] - 7s 125us/step - loss: 0.0257 - acc: 0.9919 - val_loss: 0.0251 - val_acc: 0.9924\n",
            "Epoch 10/10\n",
            "60000/60000 [==============================] - 7s 125us/step - loss: 0.0240 - acc: 0.9922 - val_loss: 0.0294 - val_acc: 0.9903\n",
            "test loss 0.029388208904626664\n",
            "test accuracy 0.9903\n"
          ],
          "name": "stdout"
        },
        {
          "output_type": "stream",
          "text": [
            "/usr/local/lib/python3.6/dist-packages/ipykernel_launcher.py:67: DeprecationWarning: elementwise == comparison failed; this will raise an error in the future.\n",
            "/usr/local/lib/python3.6/dist-packages/ipykernel_launcher.py:68: DeprecationWarning: elementwise != comparison failed; this will raise an error in the future.\n"
          ],
          "name": "stderr"
        },
        {
          "output_type": "display_data",
          "data": {
            "text/plain": [
              "<matplotlib.figure.Figure at 0x7febc7b3a3c8>"
            ]
          },
          "metadata": {
            "tags": []
          }
        },
        {
          "output_type": "display_data",
          "data": {
            "image/png": "[encoded data removed]",
            "text/plain": [
              "<matplotlib.figure.Figure at 0x7febc76f1780>"
            ]
          },
          "metadata": {
            "tags": []
          }
        }
      ]
    },
    {
      "metadata": {
        "id": "-6Jbtd6trIB9",
        "colab_type": "code",
        "colab": {}
      },
      "cell_type": "code",
      "source": [
        ""
      ],
      "execution_count": 0,
      "outputs": []
    }
  ]
}
